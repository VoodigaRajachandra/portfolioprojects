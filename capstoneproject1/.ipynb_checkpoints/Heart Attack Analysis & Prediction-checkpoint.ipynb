{
 "cells": [
  {
   "cell_type": "markdown",
   "id": "fe5135ce",
   "metadata": {},
   "source": [
    "## Heart Attack Analysis & Prediction(Classification)"
   ]
  },
  {
   "cell_type": "markdown",
   "id": "914cc1ec",
   "metadata": {},
   "source": [
    "### Project Content\n",
    "#### 1. [Introduction](#1)\n",
    "#### 2. [Description of Variables in the DataSet](#2)"
   ]
  },
  {
   "cell_type": "markdown",
   "id": "df931a5a",
   "metadata": {},
   "source": [
    "### 1. Introduction <a id=1></a>"
   ]
  },
  {
   "cell_type": "markdown",
   "id": "eea5a449",
   "metadata": {},
   "source": [
    "#### what is Heart Attack?\n",
    "#### *The medical name of heart attack is \"Myocardial Infarction\".\n",
    "#### *Heart Attack in short, It is the occlusion of the vessel by plaque like lesions filled with cholestrol and fat.\n",
    "#### *The lesion is called abnormal condition that occur in the organs where the disease is located. \n",
    "#### *As a result of blockage the blood flow is completely cutt off and a heart attack that can lead to death occurs."
   ]
  },
  {
   "cell_type": "markdown",
   "id": "3f004d14",
   "metadata": {},
   "source": [
    "### 2. Description of Variables in the Data Set <a id=2></a>\n",
    "1. age - age in years\n",
    "\n",
    "2. sex - sex (1 = male; 0 = female)\n",
    "\n",
    "3. cp - chest pain type (1 = typical angina; 2 = atypical angina; 3 = non-anginal pain; 0 = asymptomatic)\n",
    "\n",
    "4. trestbps - resting blood pressure (in mm Hg on admission to the hospital)\n",
    "\n",
    "5. chol - serum cholestoral in mg/dl\n",
    "\n",
    "6. fbs - fasting blood sugar > 120 mg/dl (1 = true; 0 = false)\n",
    "\n",
    "7. restecg - resting electrocardiographic results (1 = normal; 2 = having ST-T wave abnormality; 0 = hypertrophy)\n",
    "\n",
    "8. thalach - maximum heart rate achieved\n",
    "\n",
    "9. exang - exercise induced angina (1 = yes; 0 = no)\n",
    "\n",
    "10. oldpeak - ST depression induced by exercise relative to rest\n",
    "\n",
    "11. slope - the slope of the peak exercise ST segment (2 = upsloping; 1 = flat; 0 = downsloping)\n",
    "\n",
    "12. ca - number of major vessels (0-3) colored by flourosopy\n",
    "\n",
    "13. thal - 2 = normal; 1 = fixed defect; 3 = reversable defect\n",
    "\n",
    "14. target- the predicted attribute - diagnosis of heart disease (angiographic disease status) (Value 0 = < diameter narrowing; Value 1 = > 50% diameter narrowing)"
   ]
  },
  {
   "cell_type": "code",
   "execution_count": null,
   "id": "e0391c7e",
   "metadata": {},
   "outputs": [],
   "source": []
  }
 ],
 "metadata": {
  "kernelspec": {
   "display_name": "Python 3 (ipykernel)",
   "language": "python",
   "name": "python3"
  },
  "language_info": {
   "codemirror_mode": {
    "name": "ipython",
    "version": 3
   },
   "file_extension": ".py",
   "mimetype": "text/x-python",
   "name": "python",
   "nbconvert_exporter": "python",
   "pygments_lexer": "ipython3",
   "version": "3.9.7"
  }
 },
 "nbformat": 4,
 "nbformat_minor": 5
}
